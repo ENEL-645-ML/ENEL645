{
 "cells": [
  {
   "cell_type": "markdown",
   "metadata": {},
   "source": [
    "# Fully Connected Neural Networks \n",
    "\n",
    "This tutorial demonstrates the usage of fully connected neural-networks to classify 2-dimensional synthetic data. We implement the network using Keras and TensorFlow. Keras and TensorFlow are powerful frameworks that allow you to build many  deep-learning-based applications.\n",
    "\n",
    "The goals of this tutorial are:\n",
    "  - Introduce Keras and TensorFlow to implement fully connected neural network.\n",
    "  - Illustrate the non-linear decision rules that multi-layer neural networks can achieve.\n",
    "  \n",
    "      \n",
    "## Importing Python Libraries"
   ]
  },
  {
   "cell_type": "code",
   "execution_count": 1,
   "metadata": {},
   "outputs": [],
   "source": [
    "%config Completer.use_jedi = False"
   ]
  },
  {
   "cell_type": "code",
   "execution_count": 32,
   "metadata": {},
   "outputs": [],
   "source": [
    "#%matplotlib inline\n",
    "#\n",
    "#\n",
    "\n",
    "import tensorflow as tf\n",
    "\n",
    "#physical_devices = tf.config.experimental.list_physical_devices('GPU')\n",
    "#tf.config.experimental.set_memory_growth(physical_devices[0], True)\n",
    "\n",
    "from tensorflow.keras.utils import to_categorical # Function to convert labels to one-hot encoding\n",
    "from tensorflow.keras.models import Model \n",
    "from tensorflow.keras.layers import Dense, Activation,Input \n",
    "from tensorflow.keras.optimizers import SGD\n",
    "\n",
    "import sklearn\n"
   ]
  },
  {
   "cell_type": "code",
   "execution_count": 33,
   "metadata": {},
   "outputs": [],
   "source": [
    "from sklearn.model_selection import train_test_split"
   ]
  },
  {
   "cell_type": "code",
   "execution_count": null,
   "metadata": {},
   "outputs": [],
   "source": []
  },
  {
   "cell_type": "code",
   "execution_count": 34,
   "metadata": {},
   "outputs": [],
   "source": [
    "import sys\n",
    "import numpy as np\n",
    "import matplotlib.pyplot as plt\n",
    "## Adding dataset_utils to the system path so we can import it\n",
    "MY_UTILS_PATH = '../Modules/'\n",
    "if not MY_UTILS_PATH in sys.path:\n",
    "    sys.path.append(MY_UTILS_PATH)\n",
    "import dataset_utils "
   ]
  },
  {
   "cell_type": "code",
   "execution_count": 35,
   "metadata": {},
   "outputs": [],
   "source": [
    "import pandas as pd"
   ]
  },
  {
   "cell_type": "markdown",
   "metadata": {},
   "source": [
    "## Loading and Displaying a Synthetic 2D Dataset"
   ]
  },
  {
   "cell_type": "code",
   "execution_count": 36,
   "metadata": {},
   "outputs": [
    {
     "data": {
      "image/png": "[encoded data removed]",
      "text/plain": [
       "<Figure size 432x288 with 1 Axes>"
      ]
     },
     "metadata": {
      "needs_background": "light"
     },
     "output_type": "display_data"
    }
   ],
   "source": [
    "#Generating a synthetic dataset with four classes\n",
    "nsamples = 300\n",
    "\n",
    "data = dataset_utils.corners(N = nsamples,scale = 0.5,gapwidth = 3,cornerwidth = 4) # linear dataset\n",
    "#data = dataset_utils.crescent_full_moon(N = nsamples,r1 = 5,r2 = 10,r3 = 15) #non-linear dataset\n",
    "\n",
    "# Separating features (X) and labels (Y)\n",
    "Y = data[:,-1].astype(int) # Labels\n",
    "X = data[:,:-1] # Features\n",
    "\n",
    "#Number of classes\n",
    "k = np.unique(Y).size\n",
    "\n",
    "colors = np.array(['r','y','b','g'])\n",
    "#Displaying the dataset\n",
    "plt.scatter(X[:,0],X[:,1],c=Y)\n",
    "\n",
    "plt.xlabel(\"x1\")\n",
    "plt.ylabel(\"x2\")\n",
    "plt.grid()\n",
    "plt.title(\"Dataset\")\n",
    "plt.show()"
   ]
  },
  {
   "cell_type": "markdown",
   "metadata": {},
   "source": [
    "## Train, Validation and Test Sets Split"
   ]
  },
  {
   "cell_type": "code",
   "execution_count": 37,
   "metadata": {},
   "outputs": [],
   "source": [
    "# First we will shuffle the samples\n",
    "indexes = np.arange(X.shape[0])\n",
    "np.random.shuffle(indexes)\n",
    "X = X[indexes,:]\n",
    "Y = Y[indexes]\n",
    "\n",
    "# Then, we split our data into train/val/test sets\n",
    "train_split = np.int(0.5*Y.size)\n",
    "val_split = np.int(0.75*Y.size)\n",
    "\n",
    "X_train = X[:train_split,:]\n",
    "Y_train = Y[:train_split]\n",
    "\n",
    "X_val = X[train_split:val_split,:]\n",
    "Y_val = Y[train_split:val_split]\n",
    "\n",
    "X_test = X[val_split:,:]\n",
    "Y_test = Y[val_split:]"
   ]
  },
  {
   "cell_type": "code",
   "execution_count": 38,
   "metadata": {},
   "outputs": [],
   "source": [
    "Xtrain_val,Xtest,Ytrain_val,Ytest=train_test_split(X,Y,shuffle=True,test_size=0.25)"
   ]
  },
  {
   "cell_type": "code",
   "execution_count": 39,
   "metadata": {},
   "outputs": [],
   "source": [
    "Xtrain,Xval,Ytrain,Yval=train_test_split(Xtrain_val,Ytrain_val,test_size=0.33)\n"
   ]
  },
  {
   "cell_type": "code",
   "execution_count": 40,
   "metadata": {},
   "outputs": [
    {
     "data": {
      "text/plain": [
       "148"
      ]
     },
     "execution_count": 40,
     "metadata": {},
     "output_type": "execute_result"
    }
   ],
   "source": [
    "len(X_train)"
   ]
  },
  {
   "cell_type": "code",
   "execution_count": 41,
   "metadata": {},
   "outputs": [
    {
     "data": {
      "text/plain": [
       "74"
      ]
     },
     "execution_count": 41,
     "metadata": {},
     "output_type": "execute_result"
    }
   ],
   "source": [
    "len(Xval)"
   ]
  },
  {
   "cell_type": "markdown",
   "metadata": {},
   "source": [
    "## Data Normalization"
   ]
  },
  {
   "cell_type": "code",
   "execution_count": 42,
   "metadata": {},
   "outputs": [],
   "source": [
    "from sklearn.preprocessing import MinMaxScaler"
   ]
  },
  {
   "cell_type": "code",
   "execution_count": 43,
   "metadata": {},
   "outputs": [],
   "source": [
    "scaler=MinMaxScaler()\n",
    "scaler.fit(Xtrain)\n",
    "Xtrain=scaler.transform(Xtrain)\n",
    "Xtest=scaler.transform(Xtest)\n",
    "Xval=scaler.transform(Xval)"
   ]
  },
  {
   "cell_type": "code",
   "execution_count": null,
   "metadata": {},
   "outputs": [],
   "source": []
  },
  {
   "cell_type": "code",
   "execution_count": 44,
   "metadata": {},
   "outputs": [
    {
     "data": {
      "image/png": "[encoded data removed]",
      "text/plain": [
       "<Figure size 432x288 with 1 Axes>"
      ]
     },
     "metadata": {
      "needs_background": "light"
     },
     "output_type": "display_data"
    }
   ],
   "source": [
    "# min-max data normalization\n",
    "x_train_min = X_train.min(axis = 0, keepdims = True)\n",
    "x_train_max = X_train.max(axis = 0, keepdims = True)\n",
    "\n",
    "X_train = (X_train - x_train_min)/(x_train_max - x_train_min)\n",
    "X_val = (X_val - x_train_min)/(x_train_max - x_train_min)\n",
    "X_test = (X_test - x_train_min)/(x_train_max - x_train_min)\n",
    "\n",
    "\n",
    "#####################################################################################\n",
    "#Activity suggestion:\n",
    "# Change the min-max normalization above by standardization ((X - mean)/(std))\n",
    "####################################################################################\n",
    "\n",
    "\n",
    "#Displaying the normalized train set\n",
    "plt.scatter(X_train[:,0],X_train[:,1],c=Y_train)\n",
    "plt.xlabel(\"x1\")\n",
    "plt.ylabel(\"x2\")\n",
    "plt.grid()\n",
    "plt.title(\"Normalized Train Set \")\n",
    "plt.show()"
   ]
  },
  {
   "cell_type": "code",
   "execution_count": 45,
   "metadata": {},
   "outputs": [
    {
     "data": {
      "image/png": "[encoded data removed]",
      "text/plain": [
       "<Figure size 432x288 with 1 Axes>"
      ]
     },
     "metadata": {
      "needs_background": "light"
     },
     "output_type": "display_data"
    }
   ],
   "source": [
    "#Displaying the normalized train set\n",
    "plt.scatter(Xtrain[:,0],Xtrain[:,1],c=Ytrain)\n",
    "plt.xlabel(\"x1\")\n",
    "plt.ylabel(\"x2\")\n",
    "plt.grid()\n",
    "plt.title(\"Normalized Train Set via sklearn\")\n",
    "plt.show()"
   ]
  },
  {
   "cell_type": "code",
   "execution_count": null,
   "metadata": {},
   "outputs": [],
   "source": []
  },
  {
   "cell_type": "markdown",
   "metadata": {},
   "source": [
    "## Representing Labels using one-hot-ecoding"
   ]
  },
  {
   "cell_type": "code",
   "execution_count": 46,
   "metadata": {},
   "outputs": [
    {
     "name": "stdout",
     "output_type": "stream",
     "text": [
      "Y_train[:5]:\n",
      "[2 3 1 0 2]\n",
      "\n",
      "Y_oh_train[:5]=\n",
      "[[0. 0. 1. 0.]\n",
      " [0. 0. 0. 1.]\n",
      " [0. 1. 0. 0.]\n",
      " [1. 0. 0. 0.]\n",
      " [0. 0. 1. 0.]]\n"
     ]
    }
   ],
   "source": [
    "Y_oh_train = to_categorical(Y_train, k) \n",
    "Y_oh_val = to_categorical(Y_val, k) \n",
    "Y_oh_test = to_categorical(Y_test, k)\n",
    "# Displaying the 5 first elemnts\n",
    "print('Y_train[:5]:')\n",
    "print(Y_train[:5])\n",
    "print('\\nY_oh_train[:5]=')\n",
    "print(Y_oh_train[:5])"
   ]
  },
  {
   "cell_type": "markdown",
   "metadata": {},
   "source": [
    "## Defining a Fully Connected Neural Network with Keras"
   ]
  },
  {
   "cell_type": "code",
   "execution_count": 49,
   "metadata": {},
   "outputs": [],
   "source": [
    "def my_model(k,learning_rate = 0.15):\n",
    "    inputs = Input(shape=(2,))\n",
    "    out1 = Dense(k, activation='softmax')(inputs)\n",
    "    model = Model(inputs=inputs, outputs=out1)\n",
    "    sgd = SGD(lr=learning_rate)\n",
    "    model.compile(optimizer=sgd, loss='categorical_crossentropy', metrics = [\"accuracy\"]) \n",
    "    return model"
   ]
  },
  {
   "cell_type": "code",
   "execution_count": 50,
   "metadata": {},
   "outputs": [
    {
     "name": "stdout",
     "output_type": "stream",
     "text": [
      "Model: \"model_1\"\n",
      "_________________________________________________________________\n",
      "Layer (type)                 Output Shape              Param #   \n",
      "=================================================================\n",
      "input_2 (InputLayer)         [(None, 2)]               0         \n",
      "_________________________________________________________________\n",
      "dense_1 (Dense)              (None, 4)                 12        \n",
      "=================================================================\n",
      "Total params: 12\n",
      "Trainable params: 12\n",
      "Non-trainable params: 0\n",
      "_________________________________________________________________\n",
      "None\n"
     ]
    }
   ],
   "source": [
    "model = my_model(k)\n",
    "print(model.summary())"
   ]
  },
  {
   "cell_type": "markdown",
   "metadata": {},
   "source": [
    "## Training the Model"
   ]
  },
  {
   "cell_type": "code",
   "execution_count": 51,
   "metadata": {},
   "outputs": [
    {
     "name": "stdout",
     "output_type": "stream",
     "text": [
      "Epoch 1/100\n",
      "1/1 [==============================] - 1s 763ms/step - loss: 1.3702 - accuracy: 0.3919 - val_loss: 1.3463 - val_accuracy: 0.4324\n",
      "Epoch 2/100\n",
      "1/1 [==============================] - 0s 40ms/step - loss: 1.3619 - accuracy: 0.4054 - val_loss: 1.3403 - val_accuracy: 0.4324\n",
      "Epoch 3/100\n",
      "1/1 [==============================] - 0s 44ms/step - loss: 1.3538 - accuracy: 0.4054 - val_loss: 1.3345 - val_accuracy: 0.4324\n",
      "Epoch 4/100\n",
      "1/1 [==============================] - 0s 36ms/step - loss: 1.3459 - accuracy: 0.4122 - val_loss: 1.3289 - val_accuracy: 0.4459\n",
      "Epoch 5/100\n",
      "1/1 [==============================] - 0s 37ms/step - loss: 1.3382 - accuracy: 0.4189 - val_loss: 1.3233 - val_accuracy: 0.4595\n",
      "Epoch 6/100\n",
      "1/1 [==============================] - 0s 36ms/step - loss: 1.3307 - accuracy: 0.4189 - val_loss: 1.3179 - val_accuracy: 0.4595\n",
      "Epoch 7/100\n",
      "1/1 [==============================] - 0s 36ms/step - loss: 1.3235 - accuracy: 0.4257 - val_loss: 1.3126 - val_accuracy: 0.4595\n",
      "Epoch 8/100\n",
      "1/1 [==============================] - 0s 39ms/step - loss: 1.3164 - accuracy: 0.4324 - val_loss: 1.3073 - val_accuracy: 0.4595\n",
      "Epoch 9/100\n",
      "1/1 [==============================] - 0s 38ms/step - loss: 1.3095 - accuracy: 0.4324 - val_loss: 1.3022 - val_accuracy: 0.4595\n",
      "Epoch 10/100\n",
      "1/1 [==============================] - 0s 37ms/step - loss: 1.3027 - accuracy: 0.4324 - val_loss: 1.2971 - val_accuracy: 0.4730\n",
      "Epoch 11/100\n",
      "1/1 [==============================] - 0s 37ms/step - loss: 1.2962 - accuracy: 0.4392 - val_loss: 1.2921 - val_accuracy: 0.4865\n",
      "Epoch 12/100\n",
      "1/1 [==============================] - 0s 41ms/step - loss: 1.2897 - accuracy: 0.4392 - val_loss: 1.2872 - val_accuracy: 0.4865\n",
      "Epoch 13/100\n",
      "1/1 [==============================] - 0s 37ms/step - loss: 1.2834 - accuracy: 0.4392 - val_loss: 1.2823 - val_accuracy: 0.5000\n",
      "Epoch 14/100\n",
      "1/1 [==============================] - 0s 37ms/step - loss: 1.2773 - accuracy: 0.4595 - val_loss: 1.2775 - val_accuracy: 0.5135\n",
      "Epoch 15/100\n",
      "1/1 [==============================] - 0s 40ms/step - loss: 1.2712 - accuracy: 0.5000 - val_loss: 1.2728 - val_accuracy: 0.5405\n",
      "Epoch 16/100\n",
      "1/1 [==============================] - 0s 43ms/step - loss: 1.2653 - accuracy: 0.5068 - val_loss: 1.2681 - val_accuracy: 0.5676\n",
      "Epoch 17/100\n",
      "1/1 [==============================] - 0s 36ms/step - loss: 1.2595 - accuracy: 0.5338 - val_loss: 1.2635 - val_accuracy: 0.5811\n",
      "Epoch 18/100\n",
      "1/1 [==============================] - 0s 39ms/step - loss: 1.2538 - accuracy: 0.5541 - val_loss: 1.2589 - val_accuracy: 0.5811\n",
      "Epoch 19/100\n",
      "1/1 [==============================] - 0s 34ms/step - loss: 1.2482 - accuracy: 0.6014 - val_loss: 1.2543 - val_accuracy: 0.6216\n",
      "Epoch 20/100\n",
      "1/1 [==============================] - 0s 37ms/step - loss: 1.2427 - accuracy: 0.6351 - val_loss: 1.2498 - val_accuracy: 0.6757\n",
      "Epoch 21/100\n",
      "1/1 [==============================] - 0s 38ms/step - loss: 1.2373 - accuracy: 0.6554 - val_loss: 1.2453 - val_accuracy: 0.7027\n",
      "Epoch 22/100\n",
      "1/1 [==============================] - 0s 36ms/step - loss: 1.2319 - accuracy: 0.6959 - val_loss: 1.2409 - val_accuracy: 0.7027\n",
      "Epoch 23/100\n",
      "1/1 [==============================] - 0s 36ms/step - loss: 1.2267 - accuracy: 0.7162 - val_loss: 1.2365 - val_accuracy: 0.7162\n",
      "Epoch 24/100\n",
      "1/1 [==============================] - 0s 39ms/step - loss: 1.2215 - accuracy: 0.7365 - val_loss: 1.2321 - val_accuracy: 0.7162\n",
      "Epoch 25/100\n",
      "1/1 [==============================] - 0s 37ms/step - loss: 1.2164 - accuracy: 0.7500 - val_loss: 1.2277 - val_accuracy: 0.7162\n",
      "Epoch 26/100\n",
      "1/1 [==============================] - 0s 38ms/step - loss: 1.2113 - accuracy: 0.7500 - val_loss: 1.2234 - val_accuracy: 0.7162\n",
      "Epoch 27/100\n",
      "1/1 [==============================] - 0s 35ms/step - loss: 1.2064 - accuracy: 0.7500 - val_loss: 1.2191 - val_accuracy: 0.7297\n",
      "Epoch 28/100\n",
      "1/1 [==============================] - 0s 33ms/step - loss: 1.2014 - accuracy: 0.7500 - val_loss: 1.2148 - val_accuracy: 0.7297\n",
      "Epoch 29/100\n",
      "1/1 [==============================] - 0s 43ms/step - loss: 1.1966 - accuracy: 0.7568 - val_loss: 1.2105 - val_accuracy: 0.7297\n",
      "Epoch 30/100\n",
      "1/1 [==============================] - 0s 36ms/step - loss: 1.1918 - accuracy: 0.7635 - val_loss: 1.2062 - val_accuracy: 0.7297\n",
      "Epoch 31/100\n",
      "1/1 [==============================] - 0s 36ms/step - loss: 1.1870 - accuracy: 0.7770 - val_loss: 1.2020 - val_accuracy: 0.7297\n",
      "Epoch 32/100\n",
      "1/1 [==============================] - 0s 38ms/step - loss: 1.1823 - accuracy: 0.7770 - val_loss: 1.1978 - val_accuracy: 0.7297\n",
      "Epoch 33/100\n",
      "1/1 [==============================] - 0s 36ms/step - loss: 1.1777 - accuracy: 0.7770 - val_loss: 1.1936 - val_accuracy: 0.7297\n",
      "Epoch 34/100\n",
      "1/1 [==============================] - 0s 39ms/step - loss: 1.1730 - accuracy: 0.7770 - val_loss: 1.1894 - val_accuracy: 0.7297\n",
      "Epoch 35/100\n",
      "1/1 [==============================] - 0s 35ms/step - loss: 1.1685 - accuracy: 0.7770 - val_loss: 1.1852 - val_accuracy: 0.7297\n",
      "Epoch 36/100\n",
      "1/1 [==============================] - 0s 41ms/step - loss: 1.1640 - accuracy: 0.7770 - val_loss: 1.1811 - val_accuracy: 0.7297\n",
      "Epoch 37/100\n",
      "1/1 [==============================] - 0s 35ms/step - loss: 1.1595 - accuracy: 0.7770 - val_loss: 1.1769 - val_accuracy: 0.7297\n",
      "Epoch 38/100\n",
      "1/1 [==============================] - 0s 37ms/step - loss: 1.1550 - accuracy: 0.7770 - val_loss: 1.1728 - val_accuracy: 0.7297\n",
      "Epoch 39/100\n",
      "1/1 [==============================] - 0s 38ms/step - loss: 1.1506 - accuracy: 0.7770 - val_loss: 1.1687 - val_accuracy: 0.7297\n",
      "Epoch 40/100\n",
      "1/1 [==============================] - 0s 36ms/step - loss: 1.1462 - accuracy: 0.7770 - val_loss: 1.1646 - val_accuracy: 0.7297\n",
      "Epoch 41/100\n",
      "1/1 [==============================] - 0s 35ms/step - loss: 1.1419 - accuracy: 0.7770 - val_loss: 1.1605 - val_accuracy: 0.7297\n",
      "Epoch 42/100\n",
      "1/1 [==============================] - 0s 38ms/step - loss: 1.1376 - accuracy: 0.7770 - val_loss: 1.1565 - val_accuracy: 0.7297\n",
      "Epoch 43/100\n",
      "1/1 [==============================] - 0s 40ms/step - loss: 1.1333 - accuracy: 0.7770 - val_loss: 1.1524 - val_accuracy: 0.7297\n",
      "Epoch 44/100\n",
      "1/1 [==============================] - 0s 37ms/step - loss: 1.1291 - accuracy: 0.7770 - val_loss: 1.1484 - val_accuracy: 0.7297\n",
      "Epoch 45/100\n",
      "1/1 [==============================] - 0s 36ms/step - loss: 1.1249 - accuracy: 0.7770 - val_loss: 1.1444 - val_accuracy: 0.7297\n",
      "Epoch 46/100\n",
      "1/1 [==============================] - 0s 42ms/step - loss: 1.1207 - accuracy: 0.7770 - val_loss: 1.1404 - val_accuracy: 0.7297\n",
      "Epoch 47/100\n",
      "1/1 [==============================] - 0s 45ms/step - loss: 1.1166 - accuracy: 0.7770 - val_loss: 1.1364 - val_accuracy: 0.7297\n",
      "Epoch 48/100\n",
      "1/1 [==============================] - 0s 42ms/step - loss: 1.1125 - accuracy: 0.7770 - val_loss: 1.1324 - val_accuracy: 0.7297\n",
      "Epoch 49/100\n",
      "1/1 [==============================] - 0s 41ms/step - loss: 1.1084 - accuracy: 0.7770 - val_loss: 1.1285 - val_accuracy: 0.7297\n",
      "Epoch 50/100\n",
      "1/1 [==============================] - 0s 41ms/step - loss: 1.1043 - accuracy: 0.7770 - val_loss: 1.1245 - val_accuracy: 0.7297\n",
      "Epoch 51/100\n",
      "1/1 [==============================] - 0s 46ms/step - loss: 1.1003 - accuracy: 0.7770 - val_loss: 1.1206 - val_accuracy: 0.7297\n",
      "Epoch 52/100\n",
      "1/1 [==============================] - 0s 37ms/step - loss: 1.0963 - accuracy: 0.7770 - val_loss: 1.1167 - val_accuracy: 0.7297\n",
      "Epoch 53/100\n",
      "1/1 [==============================] - 0s 40ms/step - loss: 1.0923 - accuracy: 0.7770 - val_loss: 1.1128 - val_accuracy: 0.7297\n",
      "Epoch 54/100\n",
      "1/1 [==============================] - 0s 35ms/step - loss: 1.0884 - accuracy: 0.7770 - val_loss: 1.1089 - val_accuracy: 0.7297\n",
      "Epoch 55/100\n",
      "1/1 [==============================] - 0s 37ms/step - loss: 1.0845 - accuracy: 0.7770 - val_loss: 1.1051 - val_accuracy: 0.7297\n",
      "Epoch 56/100\n",
      "1/1 [==============================] - 0s 37ms/step - loss: 1.0806 - accuracy: 0.7770 - val_loss: 1.1012 - val_accuracy: 0.7297\n",
      "Epoch 57/100\n",
      "1/1 [==============================] - 0s 34ms/step - loss: 1.0767 - accuracy: 0.7770 - val_loss: 1.0974 - val_accuracy: 0.7297\n",
      "Epoch 58/100\n",
      "1/1 [==============================] - 0s 41ms/step - loss: 1.0729 - accuracy: 0.7770 - val_loss: 1.0936 - val_accuracy: 0.7297\n",
      "Epoch 59/100\n",
      "1/1 [==============================] - 0s 47ms/step - loss: 1.0690 - accuracy: 0.7770 - val_loss: 1.0898 - val_accuracy: 0.7297\n",
      "Epoch 60/100\n",
      "1/1 [==============================] - 0s 41ms/step - loss: 1.0652 - accuracy: 0.7770 - val_loss: 1.0860 - val_accuracy: 0.7297\n",
      "Epoch 61/100\n",
      "1/1 [==============================] - 0s 38ms/step - loss: 1.0615 - accuracy: 0.7770 - val_loss: 1.0823 - val_accuracy: 0.7297\n",
      "Epoch 62/100\n",
      "1/1 [==============================] - 0s 40ms/step - loss: 1.0577 - accuracy: 0.7770 - val_loss: 1.0785 - val_accuracy: 0.7297\n",
      "Epoch 63/100\n",
      "1/1 [==============================] - 0s 38ms/step - loss: 1.0540 - accuracy: 0.7770 - val_loss: 1.0748 - val_accuracy: 0.7297\n",
      "Epoch 64/100\n",
      "1/1 [==============================] - 0s 45ms/step - loss: 1.0503 - accuracy: 0.7770 - val_loss: 1.0711 - val_accuracy: 0.7297\n",
      "Epoch 65/100\n",
      "1/1 [==============================] - 0s 49ms/step - loss: 1.0466 - accuracy: 0.7770 - val_loss: 1.0674 - val_accuracy: 0.7297\n",
      "Epoch 66/100\n",
      "1/1 [==============================] - 0s 41ms/step - loss: 1.0429 - accuracy: 0.7770 - val_loss: 1.0637 - val_accuracy: 0.7297\n",
      "Epoch 67/100\n",
      "1/1 [==============================] - 0s 41ms/step - loss: 1.0393 - accuracy: 0.7770 - val_loss: 1.0601 - val_accuracy: 0.7297\n",
      "Epoch 68/100\n",
      "1/1 [==============================] - 0s 37ms/step - loss: 1.0357 - accuracy: 0.7770 - val_loss: 1.0564 - val_accuracy: 0.7297\n",
      "Epoch 69/100\n",
      "1/1 [==============================] - 0s 32ms/step - loss: 1.0321 - accuracy: 0.7770 - val_loss: 1.0528 - val_accuracy: 0.7297\n",
      "Epoch 70/100\n",
      "1/1 [==============================] - 0s 43ms/step - loss: 1.0285 - accuracy: 0.7770 - val_loss: 1.0492 - val_accuracy: 0.7297\n",
      "Epoch 71/100\n",
      "1/1 [==============================] - 0s 42ms/step - loss: 1.0250 - accuracy: 0.7770 - val_loss: 1.0456 - val_accuracy: 0.7297\n",
      "Epoch 72/100\n",
      "1/1 [==============================] - 0s 36ms/step - loss: 1.0214 - accuracy: 0.7770 - val_loss: 1.0420 - val_accuracy: 0.7297\n",
      "Epoch 73/100\n",
      "1/1 [==============================] - 0s 41ms/step - loss: 1.0179 - accuracy: 0.7770 - val_loss: 1.0385 - val_accuracy: 0.7297\n",
      "Epoch 74/100\n",
      "1/1 [==============================] - 0s 39ms/step - loss: 1.0144 - accuracy: 0.7770 - val_loss: 1.0350 - val_accuracy: 0.7297\n",
      "Epoch 75/100\n",
      "1/1 [==============================] - 0s 49ms/step - loss: 1.0110 - accuracy: 0.7770 - val_loss: 1.0314 - val_accuracy: 0.7297\n",
      "Epoch 76/100\n",
      "1/1 [==============================] - 0s 46ms/step - loss: 1.0075 - accuracy: 0.7770 - val_loss: 1.0279 - val_accuracy: 0.7297\n",
      "Epoch 77/100\n",
      "1/1 [==============================] - 0s 44ms/step - loss: 1.0041 - accuracy: 0.7770 - val_loss: 1.0245 - val_accuracy: 0.7297\n",
      "Epoch 78/100\n",
      "1/1 [==============================] - 0s 42ms/step - loss: 1.0007 - accuracy: 0.7770 - val_loss: 1.0210 - val_accuracy: 0.7297\n",
      "Epoch 79/100\n",
      "1/1 [==============================] - 0s 37ms/step - loss: 0.9973 - accuracy: 0.7770 - val_loss: 1.0176 - val_accuracy: 0.7297\n",
      "Epoch 80/100\n",
      "1/1 [==============================] - 0s 50ms/step - loss: 0.9939 - accuracy: 0.7770 - val_loss: 1.0141 - val_accuracy: 0.7297\n",
      "Epoch 81/100\n",
      "1/1 [==============================] - 0s 42ms/step - loss: 0.9906 - accuracy: 0.7770 - val_loss: 1.0107 - val_accuracy: 0.7297\n",
      "Epoch 82/100\n",
      "1/1 [==============================] - 0s 36ms/step - loss: 0.9872 - accuracy: 0.7770 - val_loss: 1.0073 - val_accuracy: 0.7297\n",
      "Epoch 83/100\n",
      "1/1 [==============================] - 0s 40ms/step - loss: 0.9839 - accuracy: 0.7770 - val_loss: 1.0040 - val_accuracy: 0.7297\n",
      "Epoch 84/100\n",
      "1/1 [==============================] - 0s 38ms/step - loss: 0.9806 - accuracy: 0.7770 - val_loss: 1.0006 - val_accuracy: 0.7297\n",
      "Epoch 85/100\n",
      "1/1 [==============================] - 0s 45ms/step - loss: 0.9774 - accuracy: 0.7770 - val_loss: 0.9973 - val_accuracy: 0.7297\n",
      "Epoch 86/100\n",
      "1/1 [==============================] - 0s 43ms/step - loss: 0.9741 - accuracy: 0.7770 - val_loss: 0.9940 - val_accuracy: 0.7297\n",
      "Epoch 87/100\n",
      "1/1 [==============================] - 0s 44ms/step - loss: 0.9709 - accuracy: 0.7770 - val_loss: 0.9907 - val_accuracy: 0.7297\n",
      "Epoch 88/100\n",
      "1/1 [==============================] - 0s 42ms/step - loss: 0.9677 - accuracy: 0.7770 - val_loss: 0.9874 - val_accuracy: 0.7297\n",
      "Epoch 89/100\n",
      "1/1 [==============================] - 0s 43ms/step - loss: 0.9645 - accuracy: 0.7770 - val_loss: 0.9841 - val_accuracy: 0.7297\n",
      "Epoch 90/100\n",
      "1/1 [==============================] - 0s 40ms/step - loss: 0.9613 - accuracy: 0.7770 - val_loss: 0.9809 - val_accuracy: 0.7297\n",
      "Epoch 91/100\n",
      "1/1 [==============================] - 0s 36ms/step - loss: 0.9581 - accuracy: 0.7770 - val_loss: 0.9776 - val_accuracy: 0.7297\n",
      "Epoch 92/100\n",
      "1/1 [==============================] - 0s 40ms/step - loss: 0.9550 - accuracy: 0.7770 - val_loss: 0.9744 - val_accuracy: 0.7297\n",
      "Epoch 93/100\n",
      "1/1 [==============================] - 0s 38ms/step - loss: 0.9519 - accuracy: 0.7770 - val_loss: 0.9712 - val_accuracy: 0.7297\n",
      "Epoch 94/100\n",
      "1/1 [==============================] - 0s 37ms/step - loss: 0.9488 - accuracy: 0.7770 - val_loss: 0.9681 - val_accuracy: 0.7297\n",
      "Epoch 95/100\n",
      "1/1 [==============================] - 0s 50ms/step - loss: 0.9457 - accuracy: 0.7770 - val_loss: 0.9649 - val_accuracy: 0.7297\n",
      "Epoch 96/100\n",
      "1/1 [==============================] - 0s 38ms/step - loss: 0.9426 - accuracy: 0.7770 - val_loss: 0.9618 - val_accuracy: 0.7297\n",
      "Epoch 97/100\n",
      "1/1 [==============================] - 0s 33ms/step - loss: 0.9396 - accuracy: 0.7770 - val_loss: 0.9586 - val_accuracy: 0.7297\n",
      "Epoch 98/100\n",
      "1/1 [==============================] - 0s 35ms/step - loss: 0.9365 - accuracy: 0.7770 - val_loss: 0.9555 - val_accuracy: 0.7297\n",
      "Epoch 99/100\n",
      "1/1 [==============================] - 0s 34ms/step - loss: 0.9335 - accuracy: 0.7770 - val_loss: 0.9524 - val_accuracy: 0.7297\n",
      "Epoch 100/100\n",
      "1/1 [==============================] - 0s 31ms/step - loss: 0.9305 - accuracy: 0.7770 - val_loss: 0.9494 - val_accuracy: 0.7297\n"
     ]
    }
   ],
   "source": [
    "batch_size = train_split\n",
    "nb_epoch = 100\n",
    "n = X_train.shape[0] # number of training examples\n",
    "history = model.fit(X_train, Y_oh_train, validation_data=(X_val,Y_oh_val), \\\n",
    "                    batch_size=batch_size, epochs=nb_epoch,verbose=1)"
   ]
  },
  {
   "cell_type": "markdown",
   "metadata": {},
   "source": [
    "## Prininting Loss and estimated weights (Ws)"
   ]
  },
  {
   "cell_type": "code",
   "execution_count": 52,
   "metadata": {},
   "outputs": [
    {
     "name": "stdout",
     "output_type": "stream",
     "text": [
      "Final loss (cross-entropy and accuracy): [0.9755700826644897, 0.7162162065505981]\n",
      "\n",
      "Layer 0\n",
      "Bias:\n",
      " [-0.698681    0.990724   -0.10518324 -0.18685964]\n",
      "W:\n",
      " [[ 1.105769   -1.0759916   0.23009732 -1.4117357 ]\n",
      " [ 0.33175433 -1.3205693  -0.35534748  1.394248  ]]\n",
      "\n"
     ]
    },
    {
     "data": {
      "image/png": "[encoded data removed]",
      "text/plain": [
       "<Figure size 432x288 with 1 Axes>"
      ]
     },
     "metadata": {
      "needs_background": "light"
     },
     "output_type": "display_data"
    },
    {
     "data": {
      "image/png": "[encoded data removed]",
      "text/plain": [
       "<Figure size 432x288 with 1 Axes>"
      ]
     },
     "metadata": {
      "needs_background": "light"
     },
     "output_type": "display_data"
    }
   ],
   "source": [
    "loss = model.evaluate(X_test, Y_oh_test, verbose=0)\n",
    "print('Final loss (cross-entropy and accuracy):',loss)\n",
    "print()\n",
    "W = model.get_weights()\n",
    "for ii in range(len(W)//2):\n",
    "    print(\"Layer %d\" %ii)\n",
    "    print('Bias:\\n', W[2*ii + 1])\n",
    "    print('W:\\n', W[2*ii])\n",
    "    print()\n",
    "\n",
    "plt.plot(history.history['loss'], label = \"Train loss\")\n",
    "plt.plot(history.history['val_loss'], label = \"Val loss\")\n",
    "plt.xlabel(\"Epoch (iteration)\")\n",
    "plt.ylabel(\"Loss\")\n",
    "plt.legend()\n",
    "plt.grid()\n",
    "plt.show()\n",
    "\n",
    "\n",
    "plt.plot(history.history['accuracy'], label = \"Train accuarcy\")\n",
    "plt.plot(history.history['val_accuracy'], label = \"Val accuarcy\")\n",
    "plt.xlabel(\"Epoch (iteration)\")\n",
    "plt.ylabel(\"Loss\")\n",
    "plt.legend()\n",
    "plt.grid()\n",
    "plt.show()"
   ]
  },
  {
   "cell_type": "markdown",
   "metadata": {},
   "source": [
    "## Classifier Decision Boundary"
   ]
  },
  {
   "cell_type": "code",
   "execution_count": 53,
   "metadata": {},
   "outputs": [
    {
     "name": "stderr",
     "output_type": "stream",
     "text": [
      "<ipython-input-53-794ffa8a6569>:15: MatplotlibDeprecationWarning: shading='flat' when X and Y have the same dimensions as C is deprecated since 3.3.  Either specify the corners of the quadrilaterals with X and Y, or pass shading='auto', 'nearest' or 'gouraud', or set rcParams['pcolor.shading'].  This will become an error two minor releases later.\n",
      "  plt.pcolormesh(xx, yy, Z, cmap=plt.cm.Paired)\n"
     ]
    },
    {
     "data": {
      "image/png": "[encoded data removed]",
      "text/plain": [
       "<Figure size 432x360 with 1 Axes>"
      ]
     },
     "metadata": {
      "needs_background": "light"
     },
     "output_type": "display_data"
    }
   ],
   "source": [
    "h = .02  # step size in the mesh\n",
    "slack = 0.1\n",
    "# Calcula a grade para o espaço de atributos\n",
    "\n",
    "x_min, x_max = X_train.min(axis=0) - slack, X_train.max(axis=0) + slack\n",
    "xx, yy = np.meshgrid(np.arange(x_min[0], x_max[0], h), np.arange(x_min[1], x_max[1], h))\n",
    "X_grid = np.c_[xx.ravel(), yy.ravel()]\n",
    "\n",
    "# Prediction of all samples in our grid\n",
    "Z = model.predict(X_grid).argmax(axis = 1)\n",
    "Z = Z.reshape(xx.shape)\n",
    "\n",
    "# Display decision boundary\n",
    "plt.figure(1, figsize=(6, 5))\n",
    "plt.pcolormesh(xx, yy, Z, cmap=plt.cm.Paired)\n",
    "\n",
    "# Display training samples\n",
    "plt.scatter(X_train[:,0], X_train[:,1], c=colors[Y_train], edgecolors='k', cmap=plt.cm.Paired)\n",
    "plt.xlabel('x1')\n",
    "plt.ylabel('x2')\n",
    "plt.show()"
   ]
  },
  {
   "cell_type": "code",
   "execution_count": 54,
   "metadata": {},
   "outputs": [],
   "source": [
    "Z = model.predict(X_grid)"
   ]
  },
  {
   "cell_type": "code",
   "execution_count": 65,
   "metadata": {},
   "outputs": [
    {
     "data": {
      "text/html": [
       "<div>\n",
       "<style scoped>\n",
       "    .dataframe tbody tr th:only-of-type {\n",
       "        vertical-align: middle;\n",
       "    }\n",
       "\n",
       "    .dataframe tbody tr th {\n",
       "        vertical-align: top;\n",
       "    }\n",
       "\n",
       "    .dataframe thead th {\n",
       "        text-align: right;\n",
       "    }\n",
       "</style>\n",
       "<table border=\"1\" class=\"dataframe\">\n",
       "  <thead>\n",
       "    <tr style=\"text-align: right;\">\n",
       "      <th></th>\n",
       "      <th>loss</th>\n",
       "      <th>accuracy</th>\n",
       "      <th>val_loss</th>\n",
       "      <th>val_accuracy</th>\n",
       "    </tr>\n",
       "  </thead>\n",
       "  <tbody>\n",
       "    <tr>\n",
       "      <th>0</th>\n",
       "      <td>1.370230</td>\n",
       "      <td>0.391892</td>\n",
       "      <td>1.346277</td>\n",
       "      <td>0.432432</td>\n",
       "    </tr>\n",
       "    <tr>\n",
       "      <th>1</th>\n",
       "      <td>1.361875</td>\n",
       "      <td>0.405405</td>\n",
       "      <td>1.340345</td>\n",
       "      <td>0.432432</td>\n",
       "    </tr>\n",
       "    <tr>\n",
       "      <th>2</th>\n",
       "      <td>1.353760</td>\n",
       "      <td>0.405405</td>\n",
       "      <td>1.334549</td>\n",
       "      <td>0.432432</td>\n",
       "    </tr>\n",
       "    <tr>\n",
       "      <th>3</th>\n",
       "      <td>1.345874</td>\n",
       "      <td>0.412162</td>\n",
       "      <td>1.328881</td>\n",
       "      <td>0.445946</td>\n",
       "    </tr>\n",
       "    <tr>\n",
       "      <th>4</th>\n",
       "      <td>1.338206</td>\n",
       "      <td>0.418919</td>\n",
       "      <td>1.323331</td>\n",
       "      <td>0.459459</td>\n",
       "    </tr>\n",
       "  </tbody>\n",
       "</table>\n",
       "</div>"
      ],
      "text/plain": [
       "       loss  accuracy  val_loss  val_accuracy\n",
       "0  1.370230  0.391892  1.346277      0.432432\n",
       "1  1.361875  0.405405  1.340345      0.432432\n",
       "2  1.353760  0.405405  1.334549      0.432432\n",
       "3  1.345874  0.412162  1.328881      0.445946\n",
       "4  1.338206  0.418919  1.323331      0.459459"
      ]
     },
     "execution_count": 65,
     "metadata": {},
     "output_type": "execute_result"
    }
   ],
   "source": [
    "t=pd.DataFrame(history.history)\n",
    "t.head(5)"
   ]
  },
  {
   "cell_type": "markdown",
   "metadata": {},
   "source": [
    "## Suggested activities\n",
    "- Repeat the example without normalizing the data or using standardization (i.e., subtract from the mean and divide by the standard-deviation);\n",
    "- Experiment with other datasets\n",
    "- Change the neural network architecture\n",
    "- ..."
   ]
  },
  {
   "cell_type": "code",
   "execution_count": null,
   "metadata": {},
   "outputs": [],
   "source": []
  },
  {
   "cell_type": "code",
   "execution_count": null,
   "metadata": {},
   "outputs": [],
   "source": []
  }
 ],
 "metadata": {
  "kernelspec": {
   "display_name": "Python 3",
   "language": "python",
   "name": "python3"
  },
  "language_info": {
   "codemirror_mode": {
    "name": "ipython",
    "version": 3
   },
   "file_extension": ".py",
   "mimetype": "text/x-python",
   "name": "python",
   "nbconvert_exporter": "python",
   "pygments_lexer": "ipython3",
   "version": "3.8.5"
  }
 },
 "nbformat": 4,
 "nbformat_minor": 4
}
